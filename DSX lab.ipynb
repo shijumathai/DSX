{
    "nbformat_minor": 1, 
    "cells": [
        {
            "execution_count": 2, 
            "cell_type": "code", 
            "metadata": {}, 
            "outputs": [
                {
                    "execution_count": 2, 
                    "metadata": {}, 
                    "data": {
                        "text/html": "<div>\n<style scoped>\n    .dataframe tbody tr th:only-of-type {\n        vertical-align: middle;\n    }\n\n    .dataframe tbody tr th {\n        vertical-align: top;\n    }\n\n    .dataframe thead th {\n        text-align: right;\n    }\n</style>\n<table border=\"1\" class=\"dataframe\">\n  <thead>\n    <tr style=\"text-align: right;\">\n      <th></th>\n      <th>ZIP5</th>\n      <th>LATITUDE</th>\n      <th>LONGITUDE</th>\n      <th>ADDRESS_ID</th>\n    </tr>\n  </thead>\n  <tbody>\n    <tr>\n      <th>0</th>\n      <td>75001.0</td>\n      <td>32.954281</td>\n      <td>-96.842703</td>\n      <td>5.213015e+11</td>\n    </tr>\n    <tr>\n      <th>1</th>\n      <td>75001.0</td>\n      <td>NaN</td>\n      <td>NaN</td>\n      <td>5.213005e+11</td>\n    </tr>\n    <tr>\n      <th>2</th>\n      <td>75001.0</td>\n      <td>32.944027</td>\n      <td>-96.850765</td>\n      <td>5.213006e+11</td>\n    </tr>\n    <tr>\n      <th>3</th>\n      <td>75001.0</td>\n      <td>32.949073</td>\n      <td>-96.848105</td>\n      <td>5.213011e+11</td>\n    </tr>\n    <tr>\n      <th>4</th>\n      <td>75001.0</td>\n      <td>32.949009</td>\n      <td>-96.842901</td>\n      <td>5.213002e+11</td>\n    </tr>\n  </tbody>\n</table>\n</div>", 
                        "text/plain": "      ZIP5   LATITUDE  LONGITUDE    ADDRESS_ID\n0  75001.0  32.954281 -96.842703  5.213015e+11\n1  75001.0        NaN        NaN  5.213005e+11\n2  75001.0  32.944027 -96.850765  5.213006e+11\n3  75001.0  32.949073 -96.848105  5.213011e+11\n4  75001.0  32.949009 -96.842901  5.213002e+11"
                    }, 
                    "output_type": "execute_result"
                }
            ], 
            "source": "# The code was removed by DSX for sharing."
        }, 
        {
            "execution_count": null, 
            "cell_type": "code", 
            "metadata": {}, 
            "outputs": [], 
            "source": ""
        }, 
        {
            "execution_count": null, 
            "cell_type": "code", 
            "metadata": {}, 
            "outputs": [], 
            "source": ""
        }
    ], 
    "metadata": {
        "kernelspec": {
            "display_name": "Python 3.5 with Spark 2.1", 
            "name": "python3-spark21", 
            "language": "python"
        }, 
        "language_info": {
            "mimetype": "text/x-python", 
            "nbconvert_exporter": "python", 
            "version": "3.5.4", 
            "name": "python", 
            "file_extension": ".py", 
            "pygments_lexer": "ipython3", 
            "codemirror_mode": {
                "version": 3, 
                "name": "ipython"
            }
        }
    }, 
    "nbformat": 4
}