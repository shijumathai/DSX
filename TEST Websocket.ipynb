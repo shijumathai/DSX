{
    "nbformat_minor": 1, 
    "cells": [
        {
            "execution_count": null, 
            "cell_type": "code", 
            "metadata": {}, 
            "outputs": [], 
            "source": ""
        }, 
        {
            "execution_count": null, 
            "cell_type": "code", 
            "metadata": {}, 
            "outputs": [], 
            "source": "# Import WebSocket libraries\nimport websocket\nimport _thread\nimport time\nimport codecs\nfrom io import StringIO\n"
        }, 
        {
            "execution_count": null, 
            "cell_type": "code", 
            "metadata": {
                "collapsed": true
            }, 
            "outputs": [], 
            "source": "       \ndef on_message(ws, message):\n    print(\"test\"+message)\n    msg = json.loads(message)\n    cmd = msg['cmd']\n    \n    \n    if cmd =='NO_OF_CANCELLATIONS':\n        print(\"checking\"+message)\n        edition=2008\n        \n        response=get_churn()\n        \n        cancellations=[]\n        for i, row in response.iteritems():\n            data = {\"cancel\":i,\"count\":row}\n            cancellations.append(data) \n            print(cancellations)\n        wsresponse={} \n        wsresponse[\"uuid\"] =msg.uuid\n       # wsresponse[\"forcmd\"] = \"NO_OF_CANCELLATIONS\"\n      #  wsresponse[\"response\"] = cancellations   \n        #wsresponse={\"forcmd\": \"T10G\", \"response\": [{\"country\": \"USA\", \"tally\": 125}, {\"country\": \"CHN\", \"tally\": 74}, {\"country\": \"RUS\", \"tally\": 43}, {\"country\": \"GER\", \"tally\": 42}, {\"country\": \"KOR\", \"tally\": 41}, {\"country\": \"NED\", \"tally\": 40}, {\"country\": \"AUS\", \"tally\": 31}, {\"country\": \"GBR\", \"tally\": 31}, {\"country\": \"FRA\", \"tally\": 25}, {\"country\": \"JPN\", \"tally\": 23}]}\n       # print(wsresponse)\n       wsresponse={'forcmd': 'NO_OF_CANCELLATIONS', 'response': [{'CANCEL': 'N', 'no_of_cancellations': 44905}, {'CANCEL': 'Y', 'no_of_cancellations': 15030}]}\n        ws.send(json.dumps(wsresponse))\n    elif cmd=='CANCEL_CUST_TENURE':\n        print(\"checking\"+message)\n        edition=2008\n        \n        response=get_churn_cust_tenure()\n        \n        tenure_cancellations=[]\n        for i, row in response.iteritems():\n            data = {\"TenureRange\":i,\"count\":row}\n            tenure_cancellations.append(data) \n            print(tenure_cancellations)\n        wsresponse={}  \n        wsresponse[\"forcmd\"] = \"NO_OF_CANCELLATIONS\"\n        wsresponse[\"response\"] = tenure_cancellations  \n        #wsresponse={\"forcmd\": \"T10G\", \"response\": [{\"country\": \"USA\", \"tally\": 125}, {\"country\": \"CHN\", \"tally\": 74}, {\"country\": \"RUS\", \"tally\": 43}, {\"country\": \"GER\", \"tally\": 42}, {\"country\": \"KOR\", \"tally\": 41}, {\"country\": \"NED\", \"tally\": 40}, {\"country\": \"AUS\", \"tally\": 31}, {\"country\": \"GBR\", \"tally\": 31}, {\"country\": \"FRA\", \"tally\": 25}, {\"country\": \"JPN\", \"tally\": 23}]}\n        print(wsresponse)\n       #{'forcmd': 'T10G', 'response': [{'CANCEL': 'N', 'no_of_cancellations': 44905}, {'CANCEL': 'Y', 'no_of_cancellations': 15030}]}\n        ws.send(json.dumps(wsresponse))\n        \ndef on_error(ws, error):\n    print(error)\n\ndef on_close(ws):\n    ws.send(\"DSX Listen End\")\n\ndef on_open(ws):\n    ws.send('{\"group\":\"grp001\"}')\n    \ndef start_websocket_listener():\n    websocket.enableTrace(True)\n    ws = websocket.WebSocketApp(\"ws://gsc-fsm-cta-workshop-labs-2018-dsx-lab-server.mybluemix.net/\",\n                              on_message = on_message,\n                              on_error = on_error,\n                              on_close = on_close)\n    ws.on_open = on_open\n    ws.run_forever() \n    "
        }, 
        {
            "execution_count": null, 
            "cell_type": "code", 
            "metadata": {}, 
            "outputs": [], 
            "source": "start_websocket_listener()"
        }
    ], 
    "metadata": {
        "kernelspec": {
            "display_name": "Python 3.5 with Spark 2.1", 
            "name": "python3-spark21", 
            "language": "python"
        }, 
        "language_info": {
            "mimetype": "text/x-python", 
            "nbconvert_exporter": "python", 
            "version": "3.5.4", 
            "name": "python", 
            "file_extension": ".py", 
            "pygments_lexer": "ipython3", 
            "codemirror_mode": {
                "version": 3, 
                "name": "ipython"
            }
        }
    }, 
    "nbformat": 4
}