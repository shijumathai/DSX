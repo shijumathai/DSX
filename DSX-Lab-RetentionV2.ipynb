{
    "nbformat_minor": 1, 
    "cells": [
        {
            "source": "# Retention Model", 
            "cell_type": "markdown", 
            "metadata": {}
        }, 
        {
            "source": "#### The learning goals of this notebook are:\n\n    Load a CSV file into an Apache\u00ae Spark DataFrame.\n    Explore data.\n    Prepare data for training and evaluation.\n    Create an Apache\u00ae Spark machine learning pipeline.\n    Train and evaluate a model.\n    Persist a pipeline and model in Watson Machine Learning repository.\n    Deploy a model for online scoring using Wastson Machine Learning API.\n    Score sample scoring data using the Watson Machine Learning API.\n    Explore and visualize prediction result using the plotly package.\n", 
            "cell_type": "markdown", 
            "metadata": {}
        }, 
        {
            "execution_count": 2, 
            "cell_type": "code", 
            "metadata": {}, 
            "outputs": [], 
            "source": "# The code was removed by DSX for sharing."
        }, 
        {
            "execution_count": 3, 
            "cell_type": "code", 
            "metadata": {}, 
            "outputs": [
                {
                    "output_type": "stream", 
                    "name": "stderr", 
                    "text": "/usr/local/src/conda3_runtime/home/envs/DSX-Python35-Spark/lib/python3.5/site-packages/IPython/core/interactiveshell.py:2698: DtypeWarning: Columns (19) have mixed types. Specify dtype option on import or set low_memory=False.\n  interactivity=interactivity, compiler=compiler, result=result)\n"
                }, 
                {
                    "execution_count": 3, 
                    "metadata": {}, 
                    "data": {
                        "text/html": "<div>\n<style scoped>\n    .dataframe tbody tr th:only-of-type {\n        vertical-align: middle;\n    }\n\n    .dataframe tbody tr th {\n        vertical-align: top;\n    }\n\n    .dataframe thead th {\n        text-align: right;\n    }\n</style>\n<table border=\"1\" class=\"dataframe\">\n  <thead>\n    <tr style=\"text-align: right;\">\n      <th></th>\n      <th>ZIP5</th>\n      <th>LATITUDE</th>\n      <th>LONGITUDE</th>\n      <th>ADDRESS_ID</th>\n      <th>INDIVIDUAL_ID</th>\n      <th>INCOME</th>\n      <th>AGE_IN_YEARS</th>\n      <th>HAS_CHILDREN</th>\n      <th>LENGTH_OF_RESIDENCE</th>\n      <th>MARITAL_STATUS</th>\n      <th>...</th>\n      <th>CREDIT_RATING</th>\n      <th>HOME_OWNER</th>\n      <th>NO_MARITAL_STATUS</th>\n      <th>COLLEGE_DEGREE</th>\n      <th>GOOD_CREDIT</th>\n      <th>ACCT_SUSPD_DATE</th>\n      <th>CURR_ANN_AMT</th>\n      <th>CUST_TENURE</th>\n      <th>CANCEL</th>\n      <th>NOOFPRODUCTS</th>\n    </tr>\n  </thead>\n  <tbody>\n    <tr>\n      <th>0</th>\n      <td>75001.0</td>\n      <td>32.944027</td>\n      <td>-96.850765</td>\n      <td>5.213006e+11</td>\n      <td>2.213016e+11</td>\n      <td>125000.0</td>\n      <td>42.053388</td>\n      <td>0.0</td>\n      <td>1.000000</td>\n      <td>Single</td>\n      <td>...</td>\n      <td>800+</td>\n      <td>0</td>\n      <td>0</td>\n      <td>1</td>\n      <td>1</td>\n      <td>NaN</td>\n      <td>862.963714</td>\n      <td>7.242300</td>\n      <td>N</td>\n      <td>2</td>\n    </tr>\n    <tr>\n      <th>1</th>\n      <td>75001.0</td>\n      <td>32.944027</td>\n      <td>-96.850765</td>\n      <td>5.213006e+11</td>\n      <td>2.213016e+11</td>\n      <td>87500.0</td>\n      <td>31.805613</td>\n      <td>0.0</td>\n      <td>2.000000</td>\n      <td>Married</td>\n      <td>...</td>\n      <td>800+</td>\n      <td>0</td>\n      <td>0</td>\n      <td>1</td>\n      <td>1</td>\n      <td>NaN</td>\n      <td>1007.883812</td>\n      <td>6.251951</td>\n      <td>N</td>\n      <td>2</td>\n    </tr>\n    <tr>\n      <th>2</th>\n      <td>75001.0</td>\n      <td>32.944027</td>\n      <td>-96.850765</td>\n      <td>5.213006e+11</td>\n      <td>2.213016e+11</td>\n      <td>87500.0</td>\n      <td>43.890486</td>\n      <td>1.0</td>\n      <td>6.000000</td>\n      <td>Married</td>\n      <td>...</td>\n      <td>800+</td>\n      <td>0</td>\n      <td>0</td>\n      <td>1</td>\n      <td>1</td>\n      <td>NaN</td>\n      <td>986.928695</td>\n      <td>10.391239</td>\n      <td>N</td>\n      <td>2</td>\n    </tr>\n    <tr>\n      <th>3</th>\n      <td>75001.0</td>\n      <td>32.944027</td>\n      <td>-96.850765</td>\n      <td>5.213006e+11</td>\n      <td>2.213016e+11</td>\n      <td>87500.0</td>\n      <td>71.052704</td>\n      <td>0.0</td>\n      <td>7.000000</td>\n      <td>Single</td>\n      <td>...</td>\n      <td>800+</td>\n      <td>0</td>\n      <td>0</td>\n      <td>1</td>\n      <td>1</td>\n      <td>NaN</td>\n      <td>1025.382552</td>\n      <td>10.628063</td>\n      <td>N</td>\n      <td>2</td>\n    </tr>\n    <tr>\n      <th>4</th>\n      <td>75001.0</td>\n      <td>32.944027</td>\n      <td>-96.850765</td>\n      <td>5.213006e+11</td>\n      <td>2.213016e+11</td>\n      <td>87500.0</td>\n      <td>38.724162</td>\n      <td>0.0</td>\n      <td>6.800524</td>\n      <td>NaN</td>\n      <td>...</td>\n      <td>800+</td>\n      <td>0</td>\n      <td>0</td>\n      <td>0</td>\n      <td>1</td>\n      <td>NaN</td>\n      <td>1011.281898</td>\n      <td>15.608830</td>\n      <td>N</td>\n      <td>2</td>\n    </tr>\n  </tbody>\n</table>\n<p>5 rows \u00d7 24 columns</p>\n</div>", 
                        "text/plain": "      ZIP5   LATITUDE  LONGITUDE    ADDRESS_ID  INDIVIDUAL_ID    INCOME  \\\n0  75001.0  32.944027 -96.850765  5.213006e+11   2.213016e+11  125000.0   \n1  75001.0  32.944027 -96.850765  5.213006e+11   2.213016e+11   87500.0   \n2  75001.0  32.944027 -96.850765  5.213006e+11   2.213016e+11   87500.0   \n3  75001.0  32.944027 -96.850765  5.213006e+11   2.213016e+11   87500.0   \n4  75001.0  32.944027 -96.850765  5.213006e+11   2.213016e+11   87500.0   \n\n   AGE_IN_YEARS  HAS_CHILDREN  LENGTH_OF_RESIDENCE MARITAL_STATUS  \\\n0     42.053388           0.0             1.000000         Single   \n1     31.805613           0.0             2.000000        Married   \n2     43.890486           1.0             6.000000        Married   \n3     71.052704           0.0             7.000000         Single   \n4     38.724162           0.0             6.800524            NaN   \n\n      ...      CREDIT_RATING  HOME_OWNER NO_MARITAL_STATUS COLLEGE_DEGREE  \\\n0     ...               800+           0                 0              1   \n1     ...               800+           0                 0              1   \n2     ...               800+           0                 0              1   \n3     ...               800+           0                 0              1   \n4     ...               800+           0                 0              0   \n\n  GOOD_CREDIT  ACCT_SUSPD_DATE  CURR_ANN_AMT  CUST_TENURE  CANCEL NOOFPRODUCTS  \n0           1              NaN    862.963714     7.242300       N            2  \n1           1              NaN   1007.883812     6.251951       N            2  \n2           1              NaN    986.928695    10.391239       N            2  \n3           1              NaN   1025.382552    10.628063       N            2  \n4           1              NaN   1011.281898    15.608830       N            2  \n\n[5 rows x 24 columns]"
                    }, 
                    "output_type": "execute_result"
                }
            ], 
            "source": "\n\nbody = client_3ee96d0a6d9a4b428f2e5378e7bec329.get_object(Bucket='inschurn-donotdelete-pr-fwv2tei0p8mnfd',Key='churn-set1.csv')['Body']\n# add missing __iter__ method, so pandas accepts body as file-like object\nif not hasattr(body, \"__iter__\"): body.__iter__ = types.MethodType( __iter__, body )\n\ncustomers= pd.read_csv(body)\ncustomers.head()"
        }, 
        {
            "execution_count": 4, 
            "cell_type": "code", 
            "metadata": {}, 
            "outputs": [], 
            "source": "#merge3.CANCEL.replace(['Y','N'],[1,0],inplace=True)\n#merge3.head()"
        }, 
        {
            "execution_count": 5, 
            "cell_type": "code", 
            "metadata": {}, 
            "outputs": [], 
            "source": "customers.AGE_IN_YEARS=customers.AGE_IN_YEARS.astype(int)\ncustomers.HAS_CHILDREN=customers.HAS_CHILDREN.astype(int)\ncustomers.INCOME=customers.INCOME.astype(int)\ncustomers=customers.drop('CURR_ANN_AMT',1)"
        }, 
        {
            "execution_count": 6, 
            "cell_type": "code", 
            "metadata": {}, 
            "outputs": [
                {
                    "execution_count": 6, 
                    "metadata": {}, 
                    "data": {
                        "text/html": "<div>\n<style scoped>\n    .dataframe tbody tr th:only-of-type {\n        vertical-align: middle;\n    }\n\n    .dataframe tbody tr th {\n        vertical-align: top;\n    }\n\n    .dataframe thead th {\n        text-align: right;\n    }\n</style>\n<table border=\"1\" class=\"dataframe\">\n  <thead>\n    <tr style=\"text-align: right;\">\n      <th></th>\n      <th>ZIP5</th>\n      <th>LATITUDE</th>\n      <th>LONGITUDE</th>\n      <th>ADDRESS_ID</th>\n      <th>INDIVIDUAL_ID</th>\n      <th>INCOME</th>\n      <th>AGE_IN_YEARS</th>\n      <th>HAS_CHILDREN</th>\n      <th>LENGTH_OF_RESIDENCE</th>\n      <th>MARITAL_STATUS</th>\n      <th>...</th>\n      <th>HOME_MARKET_VALUE</th>\n      <th>CREDIT_RATING</th>\n      <th>HOME_OWNER</th>\n      <th>NO_MARITAL_STATUS</th>\n      <th>COLLEGE_DEGREE</th>\n      <th>GOOD_CREDIT</th>\n      <th>ACCT_SUSPD_DATE</th>\n      <th>CUST_TENURE</th>\n      <th>CANCEL</th>\n      <th>NOOFPRODUCTS</th>\n    </tr>\n  </thead>\n  <tbody>\n    <tr>\n      <th>0</th>\n      <td>75001.0</td>\n      <td>32.944027</td>\n      <td>-96.850765</td>\n      <td>5.213006e+11</td>\n      <td>2.213016e+11</td>\n      <td>125000</td>\n      <td>42</td>\n      <td>0</td>\n      <td>1.0</td>\n      <td>Single</td>\n      <td>...</td>\n      <td>275000 - 299999</td>\n      <td>800+</td>\n      <td>0</td>\n      <td>0</td>\n      <td>1</td>\n      <td>1</td>\n      <td>NaN</td>\n      <td>7.242300</td>\n      <td>N</td>\n      <td>2</td>\n    </tr>\n    <tr>\n      <th>1</th>\n      <td>75001.0</td>\n      <td>32.944027</td>\n      <td>-96.850765</td>\n      <td>5.213006e+11</td>\n      <td>2.213016e+11</td>\n      <td>87500</td>\n      <td>31</td>\n      <td>0</td>\n      <td>2.0</td>\n      <td>Married</td>\n      <td>...</td>\n      <td>200000 - 224999</td>\n      <td>800+</td>\n      <td>0</td>\n      <td>0</td>\n      <td>1</td>\n      <td>1</td>\n      <td>NaN</td>\n      <td>6.251951</td>\n      <td>N</td>\n      <td>2</td>\n    </tr>\n  </tbody>\n</table>\n<p>2 rows \u00d7 23 columns</p>\n</div>", 
                        "text/plain": "      ZIP5   LATITUDE  LONGITUDE    ADDRESS_ID  INDIVIDUAL_ID  INCOME  \\\n0  75001.0  32.944027 -96.850765  5.213006e+11   2.213016e+11  125000   \n1  75001.0  32.944027 -96.850765  5.213006e+11   2.213016e+11   87500   \n\n   AGE_IN_YEARS  HAS_CHILDREN  LENGTH_OF_RESIDENCE MARITAL_STATUS  \\\n0            42             0                  1.0         Single   \n1            31             0                  2.0        Married   \n\n      ...      HOME_MARKET_VALUE  CREDIT_RATING HOME_OWNER NO_MARITAL_STATUS  \\\n0     ...        275000 - 299999           800+          0                 0   \n1     ...        200000 - 224999           800+          0                 0   \n\n  COLLEGE_DEGREE  GOOD_CREDIT  ACCT_SUSPD_DATE  CUST_TENURE  CANCEL  \\\n0              1            1              NaN     7.242300       N   \n1              1            1              NaN     6.251951       N   \n\n  NOOFPRODUCTS  \n0            2  \n1            2  \n\n[2 rows x 23 columns]"
                    }, 
                    "output_type": "execute_result"
                }
            ], 
            "source": "customers.head(2)"
        }, 
        {
            "execution_count": 7, 
            "cell_type": "code", 
            "metadata": {}, 
            "outputs": [
                {
                    "output_type": "stream", 
                    "name": "stdout", 
                    "text": "MARITAL_STATUS\nMarried    31788\nSingle     17742\nName: MARITAL_STATUS, dtype: int64\n"
                }
            ], 
            "source": "customers_group_by_maritalstatus=customers.groupby('MARITAL_STATUS')\nprint (customers_group_by_maritalstatus['MARITAL_STATUS'].count())"
        }, 
        {
            "execution_count": 8, 
            "cell_type": "code", 
            "metadata": {}, 
            "outputs": [], 
            "source": "# Married people have cancelled\n#merge3.head(20)\n#merge3.loc[(merge3['HOME_OWNER']==1) & (merge3['CANCEL']==0)]\n\n#df[df['first_name'].notnull() & (df['nationality'] == \"USA\")]"
        }, 
        {
            "execution_count": 9, 
            "cell_type": "code", 
            "metadata": {}, 
            "outputs": [
                {
                    "output_type": "stream", 
                    "name": "stderr", 
                    "text": "/usr/local/src/conda3_runtime/home/envs/DSX-Python35-Spark/lib/python3.5/site-packages/seaborn/categorical.py:1460: FutureWarning: remove_na is deprecated and is a private function. Do not use.\n  stat_data = remove_na(group_data)\n"
                }, 
                {
                    "output_type": "display_data", 
                    "data": {
                        "text/plain": "<matplotlib.figure.Figure at 0x7fcee950cac8>"
                    }, 
                    "metadata": {}
                }
            ], 
            "source": "\n\n# load matplot lib for various plotting\nimport matplotlib.pyplot as plt\nplt.rc(\"font\", size=14)\n\n# we will use the seaborn for visually appealing plots\nimport seaborn as sns\nsns.set()\n# vISULAIZATION OF NO ON CANCELLATIONS\n\nsns.countplot(x='CANCEL', data=customers, palette='husl')\nplt.show()"
        }, 
        {
            "execution_count": 10, 
            "cell_type": "code", 
            "metadata": {}, 
            "outputs": [], 
            "source": "def get_No_of_Cancellations():\n   No_of_Cancellations=customers.groupby('CANCEL').size()\n   return No_of_Cancellations"
        }, 
        {
            "execution_count": 12, 
            "cell_type": "code", 
            "metadata": {}, 
            "outputs": [
                {
                    "execution_count": 12, 
                    "metadata": {}, 
                    "data": {
                        "text/plain": "CANCEL\nN    44905\nY    15030\ndtype: int64"
                    }, 
                    "output_type": "execute_result"
                }
            ], 
            "source": "df1=get_No_of_Cancellations()\ndf1.head()"
        }, 
        {
            "execution_count": 1, 
            "cell_type": "code", 
            "metadata": {}, 
            "outputs": [
                {
                    "ename": "NameError", 
                    "evalue": "name 'sns' is not defined", 
                    "traceback": [
                        "\u001b[0;31m---------------------------------------------------------------------------\u001b[0m", 
                        "\u001b[0;31mNameError\u001b[0m                                 Traceback (most recent call last)", 
                        "\u001b[0;32m<ipython-input-1-f6767ede711a>\u001b[0m in \u001b[0;36m<module>\u001b[0;34m()\u001b[0m\n\u001b[0;32m----> 1\u001b[0;31m \u001b[0msns\u001b[0m\u001b[0;34m.\u001b[0m\u001b[0mboxplot\u001b[0m\u001b[0;34m(\u001b[0m\u001b[0mx\u001b[0m\u001b[0;34m=\u001b[0m\u001b[0;34m\"CANCEL\"\u001b[0m\u001b[0;34m,\u001b[0m \u001b[0my\u001b[0m\u001b[0;34m=\u001b[0m\u001b[0;34m\"CUST_TENURE\"\u001b[0m\u001b[0;34m,\u001b[0m \u001b[0mdata\u001b[0m\u001b[0;34m=\u001b[0m\u001b[0mcustomers\u001b[0m\u001b[0;34m)\u001b[0m\u001b[0;34m\u001b[0m\u001b[0m\n\u001b[0m", 
                        "\u001b[0;31mNameError\u001b[0m: name 'sns' is not defined"
                    ], 
                    "output_type": "error"
                }
            ], 
            "source": "sns.boxplot(x=\"CANCEL\", y=\"CUST_TENURE\", data=customers)"
        }, 
        {
            "execution_count": null, 
            "cell_type": "code", 
            "metadata": {}, 
            "outputs": [], 
            "source": "GROUP_PDTS_CANCEL=customers.groupby(['CANCEL','NOOFPRODUCTS']).count()\nGROUP_PDTS_CANCEL"
        }, 
        {
            "execution_count": null, 
            "cell_type": "code", 
            "metadata": {}, 
            "outputs": [], 
            "source": "df1=customers\ndf1['CANCEL'].replace('N',0,inplace=True)\ndf1['CANCEL'].replace('Y',1,inplace=True)\ndf1.head()"
        }, 
        {
            "execution_count": null, 
            "cell_type": "code", 
            "metadata": {}, 
            "outputs": [], 
            "source": "from matplotlib.pyplot import pie, axis, show\n\n\nif df1[\"CUST_TENURE\"][0] > 0:\n    df1.loc[(df[\"CUST_TENURE\"] > 0) & (df1[\"CUST_TENURE\"] <= 2), \"AgeRange\"] = 1\n    df1.loc[(df[\"CUST_TENURE\"] > 2) & (df1[\"CUST_TENURE\"] <= 5), \"AgeRange\"] = 2\n    df1.loc[(df[\"CUST_TENURE\"] > 5) & (df1[\"CUST_TENURE\"] <= 10), \"AgeRange\"] = 3\n    df1.loc[(df[\"CUST_TENURE\"] > 10) & (df1[\"CUST_TENURE\"] <= 15), \"AgeRange\"] = 4\n    df1.loc[ df[\"CUST_TENURE\"] > 15, \"AgeRange\"] = 5\n    \nsums = df1.CANCEL.groupby(df1.AgeRange).sum()\nprint (sums)\naxis('equal');\nlabels = \"0-2\",\"2-5\",\"5-10\",\"10-15\",\"15+\"\npie(sums, labels=labels,autopct='%.0f%%')"
        }, 
        {
            "execution_count": null, 
            "cell_type": "code", 
            "metadata": {}, 
            "outputs": [], 
            "source": "df.dtypes"
        }, 
        {
            "execution_count": null, 
            "cell_type": "code", 
            "metadata": {}, 
            "outputs": [], 
            "source": "customers.groupby('CANCEL').mean()"
        }, 
        {
            "execution_count": null, 
            "cell_type": "code", 
            "metadata": {}, 
            "outputs": [], 
            "source": "# Find the corelation between inputs\n\nnum_cols=['INCOME','AGE_IN_YEARS','HAS_CHILDREN','LENGTH_OF_RESIDENCE','NUMBER_OF_CHILDREN','HOME_OWNER','NO_MARITAL_STATUS','COLLEGE_DEGREE','GOOD_CREDIT','CUST_TENURE']\n\nnum_cols_with_y = num_cols + ['CANCEL']\n\ncorr = customers[num_cols].corr()\n\n# plot heatmap\nsns.heatmap(corr, \n            xticklabels=corr.columns.values, yticklabels=corr.columns.values,\n            cmap=sns.light_palette(\"navy\"),\n           )\nplt.show()\n"
        }, 
        {
            "execution_count": null, 
            "cell_type": "code", 
            "metadata": {}, 
            "outputs": [], 
            "source": "from pyspark.sql.types import *\n\n# Prepare data\n\nmySchema = StructType([ StructField(\"ZIP5\", FloatType(), True)\\\n                       ,StructField(\"LATITUDE\", FloatType(), True)\\\n                       ,StructField(\"LONGITUDE\", FloatType(), True)\\\n                       ,StructField(\"ADDRESS_ID\", FloatType(), True)\\\n                       ,StructField(\"INDIVIDUAL_ID\", FloatType(), True)\\\n                       ,StructField(\"INCOME\", IntegerType(), True)\\\n                       ,StructField(\"AGE_IN_YEARS\", IntegerType(), True)\\\n                       ,StructField(\"HAS_CHILDREN\", IntegerType(), True)\\\n                       ,StructField(\"LENGTH_OF_RESIDENCE\", FloatType(), True)\\\n                       ,StructField(\"MARITAL_STATUS\", StringType(), True)\\\n                       ,StructField(\"HOME_OWNER_RENTER\", StringType(), True)\\\n                       ,StructField(\"NUMBER_OF_CHILDREN\", FloatType(), True)\\\n                       ,StructField(\"EDUCATION\", StringType(), True)\\\n                       ,StructField(\"HOME_MARKET_VALUE\", StringType(), True)\\\n                       ,StructField(\"CREDIT_RATING\", StringType(), True)\\\n                       ,StructField(\"HOME_OWNER\", IntegerType(), True)\\\n                       ,StructField(\"NO_MARITAL_STATUS\", IntegerType(), True)\\\n                       ,StructField(\"COLLEGE_DEGREE\",IntegerType(), True)\\\n                       ,StructField(\"GOOD_CREDIT\", IntegerType(), True)\\\n                       ,StructField(\"ACCT_SUSPENDED_DATE\", StringType(), True)\\\n                       ,StructField(\"CUST_TENURE\", FloatType(), True)\\\n                       ,StructField(\"CANCEL\", StringType(), True)\\\n                       ,StructField(\"NOOFPRODUCTS\", IntegerType(), True)])\n                     \n\ncust_sp=sqlContext.createDataFrame(customers,mySchema)\nsplitted_data=cust_sp.randomSplit([0.8,0.18,0.02],24)\ntrain_data=splitted_data[0]\ntest_data=splitted_data[1]\npredict_data=splitted_data[2]\n"
        }, 
        {
            "execution_count": null, 
            "cell_type": "code", 
            "metadata": {}, 
            "outputs": [], 
            "source": "train_data.count()"
        }, 
        {
            "execution_count": null, 
            "cell_type": "code", 
            "metadata": {}, 
            "outputs": [], 
            "source": "#Build models\nfrom pyspark.ml.feature import OneHotEncoder, StringIndexer, VectorIndexer, IndexToString\nfrom pyspark.ml import Pipeline\nfrom pyspark.ml.feature import VectorAssembler\nfrom pyspark.ml.classification import RandomForestClassifier\nfrom pyspark.ml.evaluation import MulticlassClassificationEvaluator\nfrom pyspark.ml.classification import LogisticRegression\nfrom pyspark.ml.classification import DecisionTreeClassifier\n\n\n# Prepare string variables so that they can be used by the decision tree algorithm\n# StringIndexer encodes a string column of labels to a column of label indices\nSI1 = StringIndexer(inputCol='MARITAL_STATUS', outputCol='MARITAL_STATUS_Encoded')\nSI2 = StringIndexer(inputCol='HOME_OWNER_RENTER',outputCol='HOME_OWNER_RENTER_Encoded')\nSI3 = StringIndexer(inputCol='EDUCATION',outputCol='EDUCATION_Encoded')\nSI4 = StringIndexer(inputCol='HOME_MARKET_VALUE',outputCol='HOME_MARKET_VALUE_Encoded')\nSI5 = StringIndexer(inputCol='CREDIT_RATING',outputCol='CREDIT_RATING_Encoded')\n\n\n\n\n\n\n\nlabelIndexer = StringIndexer(inputCol='CANCEL', outputCol='label').fit(train_data)\n\n# Pipelines API requires that input variables are passed in  a vector\n\nassembler = VectorAssembler(inputCols=[\"MARITAL_STATUS_Encoded\",\"HOME_OWNER_RENTER_Encoded\",\"EDUCATION_Encoded\",\"HOME_MARKET_VALUE_Encoded\",\"CREDIT_RATING_Encoded\",\"HOME_OWNER\",\"NUMBER_OF_CHILDREN\",\n                                       \"COLLEGE_DEGREE\"\n                                      ,\"NO_MARITAL_STATUS\",\"GOOD_CREDIT\",\"INCOME\",\"AGE_IN_YEARS\",\"HAS_CHILDREN\",\"LENGTH_OF_RESIDENCE\",\"NOOFPRODUCTS\",\"CUST_TENURE\"], outputCol=\"features\")"
        }, 
        {
            "execution_count": null, 
            "cell_type": "code", 
            "metadata": {}, 
            "outputs": [], 
            "source": "# instantiate the algorithm, take the default settings\nrf=RandomForestClassifier(labelCol=\"label\", featuresCol=\"features\")\n#lr=LogisticRegression(labelCol=\"label\", featuresCol=\"features\",maxIter=10)\ndt=DecisionTreeClassifier(labelCol=\"label\", featuresCol=\"features\")\n#gbt=GBTClassifier(labelCol=\"label\", featuresCol=\"features\",maxIter=10)\n# Convert indexed labels back to original labels.\nlabelConverter = IndexToString(inputCol=\"prediction\", outputCol=\"predictedLabel\", labels=labelIndexer.labels)\n\npipeline_rf = Pipeline(stages=[SI1,SI2,SI3,SI4,SI5, labelIndexer, assembler, rf,labelConverter])"
        }, 
        {
            "execution_count": null, 
            "cell_type": "code", 
            "metadata": {}, 
            "outputs": [], 
            "source": "model = pipeline_rf.fit(train_data)"
        }, 
        {
            "execution_count": null, 
            "cell_type": "code", 
            "metadata": {}, 
            "outputs": [], 
            "source": "results = model.transform(test_data)\n#results=results.select(results[\"ADDRESS_ID\"],results[\"INDIVIDUAL_ID\"],results[\"CANCEL\"],results[\"label\"],results['ACCT_SUSPENDED_DATE'],results[\"prediction\"],results[\"predictedLabel\"],results[\"probability\"])\nresults.select('INDIVIDUAL_ID','AGE_IN_YEARS','CANCEL','label','prediction','predictedLabel','probability').show(10)\n#results.toPandas().head(10)"
        }, 
        {
            "source": "###### Evaluation of model", 
            "cell_type": "markdown", 
            "metadata": {}
        }, 
        {
            "execution_count": null, 
            "cell_type": "code", 
            "metadata": {}, 
            "outputs": [], 
            "source": "evaluator = MulticlassClassificationEvaluator(\n    labelCol=\"label\", predictionCol=\"prediction\", metricName=\"accuracy\")\naccuracy = evaluator.evaluate(results)\nprint(accuracy)\nprint(\"Test Error = %g \" % (1.0 - accuracy))"
        }, 
        {
            "execution_count": null, 
            "cell_type": "code", 
            "metadata": {}, 
            "outputs": [], 
            "source": "# The code was removed by DSX for sharing."
        }, 
        {
            "source": "###### Persist Model", 
            "cell_type": "markdown", 
            "metadata": {}
        }, 
        {
            "execution_count": null, 
            "cell_type": "code", 
            "metadata": {}, 
            "outputs": [], 
            "source": "# Import client clibraries\nfrom repository_v3.mlrepositoryclient import MLRepositoryClient\nfrom repository_v3.mlrepositoryartifact import MLRepositoryArtifact\nfrom repository.mlrepository import MetaProps\n\n#WML Credentials -Authenticate to WML on bluemix, provide authentication info\nwml_credentials = {\n                   \"url\": \"https://ibm-watson-ml.mybluemix.net\",\n                  \"access_key\": \"Ev+K+YUYEtMFYKuRvNpn89NK+zfiocQ1jvmKECfKAWvfDd+2pOQHG5zjbBXQ3HMfHxGxQ3pIogjgEOjN0TGDTcL0h32gVzPkwMbmHXNpi+FQYUqQmv73SQJrb1WXWeZv\",\n                  \"username\": \"e3c82319-6c25-4aea-bfce-07330f9d6f24\",\n                   \"password\": \"0d8d6869-b7ac-4f3f-bb7b-5a8269047071\",\n                    \"instance_id\": \"4aaadd78-04fb-41f7-ba4f-ee270d6468d1\"\n                    }\nml_repository_client = MLRepositoryClient(wml_credentials['url'])\nml_repository_client.authorize(wml_credentials['username'], wml_credentials['password'])\n\n"
        }, 
        {
            "execution_count": null, 
            "cell_type": "code", 
            "metadata": {}, 
            "outputs": [], 
            "source": "pipeline_artifact = MLRepositoryArtifact(pipeline_rf, name=\"pipeline\")\nmodel_artifact = MLRepositoryArtifact(model, training_data=train_data, name=\"DSX lab Customer Retention Model\", pipeline_artifact=pipeline_artifact)\nsaved_model = ml_repository_client.models.save(model_artifact)"
        }, 
        {
            "execution_count": null, 
            "cell_type": "code", 
            "metadata": {}, 
            "outputs": [], 
            "source": "###### 4.2: Load model\n#saved_model.uid ='667198a-ca0e-4a60-b4e4-dfde2d42117c'  \nloadedModelArtifact=ml_repository_client.models.get(saved_model.uid)\nprint(\"ID= \"+saved_model.uid)\nprint(\"model= \"+loadedModelArtifact.name)\nprint(\"creationtime =\"+str(saved_model.meta.prop(\"creationTime\")))\n\n"
        }, 
        {
            "source": "###### Make local prediction using previously loaded model and test data\n\n", 
            "cell_type": "markdown", 
            "metadata": {}
        }, 
        {
            "execution_count": null, 
            "cell_type": "code", 
            "metadata": {}, 
            "outputs": [], 
            "source": "predictions = loadedModelArtifact.model_instance().transform(predict_data)\npredictions.select('INDIVIDUAL_ID','AGE_IN_YEARS','CANCEL','label','prediction','predictedLabel','probability').show(10)\n"
        }, 
        {
            "execution_count": null, 
            "cell_type": "code", 
            "metadata": {}, 
            "outputs": [], 
            "source": "predictions.select(\"prediction\").groupBy(\"prediction\").count().show(truncate=False)"
        }, 
        {
            "source": "###### Deploy and score in cloud", 
            "cell_type": "markdown", 
            "metadata": {}
        }, 
        {
            "execution_count": null, 
            "cell_type": "code", 
            "metadata": {}, 
            "outputs": [], 
            "source": "from watson_machine_learning_client import WatsonMachineLearningAPIClient\nclient = WatsonMachineLearningAPIClient(wml_credentials)\nprint (client.repository.list())\n"
        }, 
        {
            "source": "###### Load model", 
            "cell_type": "markdown", 
            "metadata": {}
        }, 
        {
            "source": "###### Deploy ans score in cloud", 
            "cell_type": "markdown", 
            "metadata": {}
        }, 
        {
            "source": "###### Get published URL", 
            "cell_type": "markdown", 
            "metadata": {}
        }, 
        {
            "execution_count": null, 
            "cell_type": "code", 
            "metadata": {}, 
            "outputs": [], 
            "source": "import urllib3, requests, json\nwml_credentials = {\n                   \"url\": \"https://ibm-watson-ml.mybluemix.net\",\n                  \"access_key\": \"Ev+K+YUYEtMFYKuRvNpn89NK+zfiocQ1jvmKECfKAWvfDd+2pOQHG5zjbBXQ3HMfHxGxQ3pIogjgEOjN0TGDTcL0h32gVzPkwMbmHXNpi+FQYUqQmv73SQJrb1WXWeZv\",\n                  \"username\": \"e3c82319-6c25-4aea-bfce-07330f9d6f24\",\n                   \"password\": \"0d8d6869-b7ac-4f3f-bb7b-5a8269047071\",\n                    \"instance_id\": \"4aaadd78-04fb-41f7-ba4f-ee270d6468d1\"\n                    }\nml_repository_client = MLRepositoryClient(wml_credentials['url'])\nml_repository_client.authorize(wml_credentials['username'], wml_credentials['password'])\n\n\n\nheaders = urllib3.util.make_headers(basic_auth='{}:{}'.format(wml_credentials['username'], wml_credentials['password']))\nurl = '{}/v3/identity/token'.format(wml_credentials['url'])\nresponse = requests.get(url, headers=headers)\nmltoken = json.loads(response.text).get('token')\n\n\n# Get published models url from instance details\nendpoint_instance = wml_credentials['url'] + \"/v3/wml_instances/\" + wml_credentials['instance_id']\nheader = {'Content-Type': 'application/json', 'Authorization': 'Bearer ' + mltoken} \n\nresponse_get_instance = requests.get(endpoint_instance, headers=header)\nendpoint_published_models = json.loads(response_get_instance.text).get('entity').get('published_models').get('url')\n\nprint (endpoint_published_models)"
        }, 
        {
            "execution_count": null, 
            "cell_type": "code", 
            "metadata": {}, 
            "outputs": [], 
            "source": "print (mltoken)"
        }, 
        {
            "execution_count": null, 
            "cell_type": "code", 
            "metadata": {}, 
            "outputs": [], 
            "source": "header = {'Content-Type': 'application/json', 'Authorization': 'Bearer ' + mltoken}\n\nresponse_get = requests.get(endpoint_published_models, headers=header)\n[deployment_url] = [x.get('entity').get('deployments').get('url') for x in json.loads(response_get.text).get('resources') if x.get('metadata').get('guid') == saved_model.uid]\nprint (deployment_url)"
        }, 
        {
            "source": "###### Online deployment", 
            "cell_type": "markdown", 
            "metadata": {}
        }, 
        {
            "execution_count": null, 
            "cell_type": "code", 
            "metadata": {}, 
            "outputs": [], 
            "source": "###### Create scoring \n\n#Now we can create our deployment. Here we make an HTTP POST to the published_models/deployments endpoint\u200a\u2014\u200apassing in our Watson ML instance_id and the model_id of our newly saved model.\n\npayload_online = {\"name\": \"Churn\", \"description\": \"churn\", \"type\": \"online\"}\nresponse_online = requests.post(deployment_url, json=payload_online, headers=header)\n\nscoring_url = json.loads(response_online.text).get('entity').get('scoring_url')\nprint(scoring_url)\n"
        }, 
        {
            "source": "###### Test scoring URL", 
            "cell_type": "markdown", 
            "metadata": {}
        }, 
        {
            "execution_count": null, 
            "cell_type": "code", 
            "metadata": {}, 
            "outputs": [], 
            "source": "#header = {'Content-Type': 'application/json', 'Authorization': 'Bearer ' + mltoken}\n\npayload_scoring = {\"fields\": ['INCOME','AGE_IN_YEARS','HAS_CHILDREN','LENGTH_OF_RESIDENCE','MARITAL_STATUS','HOME_OWNER_RENTER','EDUCATION','HOME_MARKET_VALUE','NUMBER_OF_CHILDREN',\n                              'CREDIT_RATING','HOME_OWNER','NO_MARITAL_STATUS','COLLEGE_DEGREE','GOOD_CREDIT','CUST_TENURE','NOOFPRODUCTS'],\n                   \"values\": [[125000,42,0,1,\"Single\",\"R\",\"Completed College\",\"275000 - 299999\",1,\"800+\",0,1,1,1,7,2]]}\n\nresponse_scoring = requests.post(scoring_url, json=payload_scoring, headers=header)\nprint (response_scoring.text)"
        }, 
        {
            "execution_count": null, 
            "cell_type": "code", 
            "metadata": {}, 
            "outputs": [], 
            "source": "# Write test data to .csv\nwirteCSV=test_data.toPandas()\nwriteCSV.to_csv('../datasets/test_Eval.csv',sep=',',index=False)"
        }, 
        {
            "source": "###### Loading model from repo and test -- Watson Machine learning Client", 
            "cell_type": "markdown", 
            "metadata": {}
        }, 
        {
            "execution_count": null, 
            "cell_type": "code", 
            "metadata": {}, 
            "outputs": [], 
            "source": "loaded_model = client.repository.load(saved_model.uid)"
        }, 
        {
            "execution_count": null, 
            "cell_type": "code", 
            "metadata": {}, 
            "outputs": [], 
            "source": "test_predictions = loaded_model.transform(test_data)"
        }, 
        {
            "execution_count": null, 
            "cell_type": "code", 
            "metadata": {
                "scrolled": true
            }, 
            "outputs": [], 
            "source": "test_predictions.select('probability', 'predictedLabel').show(n=3, truncate=False)\n"
        }, 
        {
            "execution_count": null, 
            "cell_type": "code", 
            "metadata": {}, 
            "outputs": [], 
            "source": "created_deployment = client.deployments.create(saved_model.uid, name=\"DSX lab Retention1 \")"
        }, 
        {
            "execution_count": null, 
            "cell_type": "code", 
            "metadata": {}, 
            "outputs": [], 
            "source": "scoring_endpoint = client.deployments.get_scoring_url(created_deployment)\n\nprint(scoring_endpoint)"
        }, 
        {
            "execution_count": null, 
            "cell_type": "code", 
            "metadata": {}, 
            "outputs": [], 
            "source": "#Test Scoring\n\npayload_scoring = {\"fields\": ['INCOME','AGE_IN_YEARS','HAS_CHILDREN','LENGTH_OF_RESIDENCE','MARITAL_STATUS','HOME_OWNER_RENTER','NUMBER_OF_CHILDREN','EDUCATION','HOME_MARKET_VALUE',\n                              'CREDIT_RATING','HOME_OWNER','NO_MARITAL_STATUS','COLLEGE_DEGREE','GOOD_CREDIT','CUST_TENURE','NOOFPRODUCTS'],\n                   \"values\": [[125000,42,0,1,\"Single\",\"R\",1,\"Completed College\",\"275000 - 299999\",\"800+\",0,0,1,1,7,2]]}\n\n#response_scoring = requests.post(scoring_url, json=payload_scoring, headers=header)\n#print (response_scoring.text)\npredictions=client.deployments.score(scoring_endpoint,payload_scoring,)\nprint(json.dumps(predictions))\n"
        }, 
        {
            "execution_count": null, 
            "cell_type": "code", 
            "metadata": {}, 
            "outputs": [], 
            "source": ""
        }, 
        {
            "execution_count": null, 
            "cell_type": "code", 
            "metadata": {}, 
            "outputs": [], 
            "source": ""
        }, 
        {
            "source": "###### Appendix", 
            "cell_type": "markdown", 
            "metadata": {}
        }, 
        {
            "execution_count": null, 
            "cell_type": "code", 
            "metadata": {}, 
            "outputs": [], 
            "source": "#no of published models\n\nprint(client.repository.list())"
        }, 
        {
            "execution_count": null, 
            "cell_type": "code", 
            "metadata": {}, 
            "outputs": [], 
            "source": "# no of deployments (max dep=5) to delete remove published model\n\nprint(client.deployments.get_details())\n\n"
        }, 
        {
            "execution_count": null, 
            "cell_type": "code", 
            "metadata": {}, 
            "outputs": [], 
            "source": "client.deployments.delete('https://us-south.ml.cloud.ibm.com/v3/wml_instances/4aaadd78-04fb-41f7-ba4f-ee270d6468d1/published_models/d0ab679e-5343-41b9-853c-42bc36715698/deployments/d2dd5441-8dcb-4f66-957e-46d4c93b1bed')"
        }, 
        {
            "source": "###### Web socket integration", 
            "cell_type": "markdown", 
            "metadata": {}
        }, 
        {
            "execution_count": null, 
            "cell_type": "code", 
            "metadata": {}, 
            "outputs": [], 
            "source": "!pip install websocket-client\n#start_websocket_listener()"
        }, 
        {
            "execution_count": 1, 
            "cell_type": "code", 
            "metadata": {}, 
            "outputs": [], 
            "source": "import websocket\nimport _thread\nimport json, types\nimport time\nimport ibm_boto3\nfrom botocore.client import Config\nimport codecs\nfrom io import StringIO"
        }, 
        {
            "execution_count": 13, 
            "cell_type": "code", 
            "metadata": {}, 
            "outputs": [], 
            "source": "def on_message(ws, message):\n    print(\"trest\"+message)\n    msg = json.loads(message)\n    cmd = msg['cmd']\n    \n    \n    if cmd =='NO_OF_CANCELLATIONS':\n        print(\"checking\"+message)\n        edition=2008\n        \n        response=get_No_of_Cancellations()\n        \n        cancellations=[]\n        for i, row in response.iteritems():\n            data = {\"cancel\":i,\"count\":row}\n            cancellations.append(data) \n            print(cancellations)\n        wsresponse={}  \n        wsresponse[\"forcmd\"] = \"NO_OF_CANCELLATIONS\"\n        wsresponse[\"response\"] = cancellations   \n        #wsresponse={\"forcmd\": \"T10G\", \"response\": [{\"country\": \"USA\", \"tally\": 125}, {\"country\": \"CHN\", \"tally\": 74}, {\"country\": \"RUS\", \"tally\": 43}, {\"country\": \"GER\", \"tally\": 42}, {\"country\": \"KOR\", \"tally\": 41}, {\"country\": \"NED\", \"tally\": 40}, {\"country\": \"AUS\", \"tally\": 31}, {\"country\": \"GBR\", \"tally\": 31}, {\"country\": \"FRA\", \"tally\": 25}, {\"country\": \"JPN\", \"tally\": 23}]}\n        print(wsresponse)\n       #{'forcmd': 'T10G', 'response': [{'CANCEL': 'N', 'no_of_cancellations': 44905}, {'CANCEL': 'Y', 'no_of_cancellations': 15030}]}\n        ws.send(json.dumps(wsresponse))\n    \ndef on_error(ws, error):\n    print(error)\n\ndef on_close(ws):\n    ws.send(\"DSX Listen End\")\n\ndef on_open(ws):\n    def run(*args):\n        for i in range(10000):\n            hbeat = '{\"cmd\":\"RETENTION DSX HeartBeat\"}'\n            ws.send(hbeat)\n            time.sleep(100)\n            \n    _thread.start_new_thread(run, ())\n\n\n    \ndef start_websocket_listener():\n    websocket.enableTrace(True)\n    ws = websocket.WebSocketApp(\"ws://testsmnodered.mybluemix.net/ws/orchestrate\",\n                              on_message = on_message,\n                              on_error = on_error,\n                              on_close = on_close)\n    ws.on_open = on_open\n    ws.run_forever()      "
        }, 
        {
            "execution_count": 14, 
            "cell_type": "code", 
            "metadata": {}, 
            "outputs": [
                {
                    "output_type": "stream", 
                    "name": "stdout", 
                    "text": "trest{\"cmd\":\"RETENTION DSX HeartBeat\"}\ntrest{\"cmd\":\"RETENTION DSX HeartBeat\"}\ntrest{\"cmd\":\"RETENTION DSX HeartBeat\"}\nConnection is already closed.\n"
                }, 
                {
                    "output_type": "stream", 
                    "name": "stderr", 
                    "text": "  File \"/gpfs/fs01/user/s10b-d226959a05b426-04153e86d6ce/.local/lib/python3.5/site-packages/websocket/_app.py\", line 320, in _callback\n    callback(self, *args)\n  File \"<ipython-input-13-f9939f28493b>\", line 30, in on_close\n    ws.send(\"DSX Listen End\")\n  File \"/gpfs/fs01/user/s10b-d226959a05b426-04153e86d6ce/.local/lib/python3.5/site-packages/websocket/_app.py\", line 151, in send\n    if not self.sock or self.sock.send(data, opcode) == 0:\n  File \"/gpfs/fs01/user/s10b-d226959a05b426-04153e86d6ce/.local/lib/python3.5/site-packages/websocket/_core.py\", line 240, in send\n    return self.send_frame(frame)\n  File \"/gpfs/fs01/user/s10b-d226959a05b426-04153e86d6ce/.local/lib/python3.5/site-packages/websocket/_core.py\", line 265, in send_frame\n    l = self._send(data)\n  File \"/gpfs/fs01/user/s10b-d226959a05b426-04153e86d6ce/.local/lib/python3.5/site-packages/websocket/_core.py\", line 430, in _send\n    return send(self.sock, data)\n  File \"/gpfs/fs01/user/s10b-d226959a05b426-04153e86d6ce/.local/lib/python3.5/site-packages/websocket/_socket.py\", line 114, in send\n    raise WebSocketConnectionClosedException(\"socket is already closed.\")\n"
                }
            ], 
            "source": "start_websocket_listener()"
        }, 
        {
            "execution_count": null, 
            "cell_type": "code", 
            "metadata": {}, 
            "outputs": [], 
            "source": ""
        }, 
        {
            "execution_count": null, 
            "cell_type": "code", 
            "metadata": {}, 
            "outputs": [], 
            "source": ""
        }, 
        {
            "execution_count": null, 
            "cell_type": "code", 
            "metadata": {}, 
            "outputs": [], 
            "source": ""
        }
    ], 
    "metadata": {
        "kernelspec": {
            "display_name": "Python 3.5 with Spark 2.1", 
            "name": "python3-spark21", 
            "language": "python"
        }, 
        "language_info": {
            "mimetype": "text/x-python", 
            "nbconvert_exporter": "python", 
            "version": "3.5.4", 
            "name": "python", 
            "file_extension": ".py", 
            "pygments_lexer": "ipython3", 
            "codemirror_mode": {
                "version": 3, 
                "name": "ipython"
            }
        }
    }, 
    "nbformat": 4
}